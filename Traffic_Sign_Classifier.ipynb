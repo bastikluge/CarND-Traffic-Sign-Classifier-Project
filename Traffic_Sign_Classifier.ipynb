{
 "cells": [
  {
   "cell_type": "markdown",
   "metadata": {},
   "source": [
    "# Self-Driving Car Engineer Nanodegree\n",
    "\n",
    "## Deep Learning\n",
    "\n",
    "## Project: Build a Traffic Sign Recognition Classifier\n",
    "\n",
    "In this notebook, a template is provided for you to implement your functionality in stages, which is required to successfully complete this project. If additional code is required that cannot be included in the notebook, be sure that the Python code is successfully imported and included in your submission if necessary. \n",
    "\n",
    "> **Note**: Once you have completed all of the code implementations, you need to finalize your work by exporting the iPython Notebook as an HTML document. Before exporting the notebook to html, all of the code cells need to have been run so that reviewers can see the final implementation and output. You can then export the notebook by using the menu above and navigating to  \\n\",\n",
    "    \"**File -> Download as -> HTML (.html)**. Include the finished document along with this notebook as your submission. \n",
    "\n",
    "In addition to implementing code, there is a writeup to complete. The writeup should be completed in a separate file, which can be either a markdown file or a pdf document. There is a [write up template](https://github.com/udacity/CarND-Traffic-Sign-Classifier-Project/blob/master/writeup_template.md) that can be used to guide the writing process. Completing the code template and writeup template will cover all of the [rubric points](https://review.udacity.com/#!/rubrics/481/view) for this project.\n",
    "\n",
    "The [rubric](https://review.udacity.com/#!/rubrics/481/view) contains \"Stand Out Suggestions\" for enhancing the project beyond the minimum requirements. The stand out suggestions are optional. If you decide to pursue the \"stand out suggestions\", you can include the code in this Ipython notebook and also discuss the results in the writeup file.\n",
    "\n",
    "\n",
    ">**Note:** Code and Markdown cells can be executed using the **Shift + Enter** keyboard shortcut. In addition, Markdown cells can be edited by typically double-clicking the cell to enter edit mode."
   ]
  },
  {
   "cell_type": "markdown",
   "metadata": {},
   "source": [
    "---\n",
    "## Step 0: Load The Data"
   ]
  },
  {
   "cell_type": "code",
   "execution_count": 1,
   "metadata": {
    "collapsed": true
   },
   "outputs": [],
   "source": [
    "### Import all packages\n",
    "\n",
    "import pickle\n",
    "import numpy as np\n",
    "import matplotlib.pyplot as plt; plt.rcdefaults()\n",
    "import matplotlib.pyplot as plt\n",
    "import random\n",
    "import csv\n",
    "import tensorflow as tf\n",
    "from tensorflow.contrib.layers import flatten\n",
    "from sklearn.utils import shuffle\n",
    "from PIL import Image\n",
    "import matplotlib.image as mpimg\n",
    "import skimage.transform as imgtf\n",
    "\n",
    "# Visualizations will be shown in the notebook.\n",
    "%matplotlib inline"
   ]
  },
  {
   "cell_type": "code",
   "execution_count": 2,
   "metadata": {
    "collapsed": true
   },
   "outputs": [],
   "source": [
    "### Load pickled data\n",
    "\n",
    "training_file   = 'X:\\\\Basti\\\\Udacity\\\\SelfDrivingCar\\\\projects\\\\CarND-Traffic-Sign-Classifier-Project\\\\data\\\\train.p'\n",
    "validation_file = 'X:\\\\Basti\\\\Udacity\\\\SelfDrivingCar\\\\projects\\\\CarND-Traffic-Sign-Classifier-Project\\\\data\\\\valid.p'\n",
    "testing_file    = 'X:\\\\Basti\\\\Udacity\\\\SelfDrivingCar\\\\projects\\\\CarND-Traffic-Sign-Classifier-Project\\\\data\\\\test.p'\n",
    "\n",
    "with open(training_file, mode='rb') as f:\n",
    "    train = pickle.load(f)\n",
    "with open(validation_file, mode='rb') as f:\n",
    "    valid = pickle.load(f)\n",
    "with open(testing_file, mode='rb') as f:\n",
    "    test = pickle.load(f)\n",
    "    \n",
    "X_train, y_train = train['features'], train['labels']\n",
    "X_valid, y_valid = valid['features'], valid['labels']\n",
    "X_test, y_test = test['features'], test['labels']"
   ]
  },
  {
   "cell_type": "markdown",
   "metadata": {},
   "source": [
    "---\n",
    "\n",
    "## Step 1: Dataset Summary & Exploration\n",
    "\n",
    "The pickled data is a dictionary with 4 key/value pairs:\n",
    "\n",
    "- `'features'` is a 4D array containing raw pixel data of the traffic sign images, (num examples, width, height, channels).\n",
    "- `'labels'` is a 1D array containing the label/class id of the traffic sign. The file `signnames.csv` contains id -> name mappings for each id.\n",
    "- `'sizes'` is a list containing tuples, (width, height) representing the original width and height the image.\n",
    "- `'coords'` is a list containing tuples, (x1, y1, x2, y2) representing coordinates of a bounding box around the sign in the image. **THESE COORDINATES ASSUME THE ORIGINAL IMAGE. THE PICKLED DATA CONTAINS RESIZED VERSIONS (32 by 32) OF THESE IMAGES**\n",
    "\n",
    "Complete the basic data summary below. Use python, numpy and/or pandas methods to calculate the data summary rather than hard coding the results. For example, the [pandas shape method](http://pandas.pydata.org/pandas-docs/stable/generated/pandas.DataFrame.shape.html) might be useful for calculating some of the summary results. "
   ]
  },
  {
   "cell_type": "markdown",
   "metadata": {},
   "source": [
    "### Provide a Basic Summary of the Data Set Using Python, Numpy and/or Pandas"
   ]
  },
  {
   "cell_type": "code",
   "execution_count": 3,
   "metadata": {},
   "outputs": [
    {
     "name": "stdout",
     "output_type": "stream",
     "text": [
      "Number of training examples = 34799\n",
      "Number of validation examples = 4410\n",
      "Number of testing examples = 12630\n",
      "Image data shape = (32, 32, 3)\n",
      "Number of classes = 43\n"
     ]
    }
   ],
   "source": [
    "### Basic summary of training set\n",
    "\n",
    "# Number of training examples\n",
    "n_train = len(X_train)\n",
    "\n",
    "# Number of validation examples\n",
    "n_validation = len(X_valid)\n",
    "\n",
    "# Number of testing examples.\n",
    "n_test = len(X_test)\n",
    "\n",
    "# What's the shape of an traffic sign image?\n",
    "image_shape = X_train[0].shape\n",
    "\n",
    "# How many unique classes/labels there are in the dataset.\n",
    "unique_classes, class_counts = np.unique(y_train, return_counts=True)\n",
    "n_classes = len(unique_classes)\n",
    "\n",
    "print(\"Number of training examples =\", n_train)\n",
    "print(\"Number of validation examples =\", n_validation)\n",
    "print(\"Number of testing examples =\", n_test)\n",
    "print(\"Image data shape =\", image_shape)\n",
    "print(\"Number of classes =\", n_classes)"
   ]
  },
  {
   "cell_type": "markdown",
   "metadata": {},
   "source": [
    "### Include an exploratory visualization of the dataset"
   ]
  },
  {
   "cell_type": "markdown",
   "metadata": {},
   "source": [
    "Visualize the German Traffic Signs Dataset using the pickled file(s). This is open ended, suggestions include: plotting traffic sign images, plotting the count of each sign, etc. \n",
    "\n",
    "The [Matplotlib](http://matplotlib.org/) [examples](http://matplotlib.org/examples/index.html) and [gallery](http://matplotlib.org/gallery.html) pages are a great resource for doing visualizations in Python.\n",
    "\n",
    "**NOTE:** It's recommended you start with something simple first. If you wish to do more, come back to it after you've completed the rest of the sections. It can be interesting to look at the distribution of classes in the training, validation and test set. Is the distribution the same? Are there more examples of some classes than others?"
   ]
  },
  {
   "cell_type": "code",
   "execution_count": 4,
   "metadata": {},
   "outputs": [
    {
     "name": "stdout",
     "output_type": "stream",
     "text": [
      "Class value of image = 31 : Wild animals crossing\n",
      "Minimum occurance count of class  Speed limit (20km/h) = 180\n",
      "Maximum occurance count of class  Speed limit (50km/h) = 2010\n"
     ]
    },
    {
     "data": {
      "image/png": "[encoded data removed]",
      "text/plain": [
       "<matplotlib.figure.Figure at 0xcc6c4a8>"
      ]
     },
     "metadata": {},
     "output_type": "display_data"
    }
   ],
   "source": [
    "### Data exploration visualization\n",
    "\n",
    "# Helper function to evaluate csv\n",
    "def is_int(value):\n",
    "  try:\n",
    "    int(value)\n",
    "    return True\n",
    "  except:\n",
    "    return False\n",
    "\n",
    "# Helper function to read csv\n",
    "def parse_csv(csv_file_name):\n",
    "    class_val_name_map = {}\n",
    "    with open(csv_file_name, newline='') as sign_names:\n",
    "        sign_names_reader = csv.reader(sign_names, delimiter=',', quotechar='|')\n",
    "        for row in sign_names_reader:\n",
    "            if is_int(row[0]):\n",
    "                class_val_name_map[int(row[0])] = row[1]\n",
    "    return class_val_name_map\n",
    "\n",
    "# Helper function to draw input image\n",
    "def show_image(index):\n",
    "    image = X_train[index].squeeze()\n",
    "    plt.figure(figsize=(2,2))\n",
    "    plt.imshow(image)\n",
    "    print(\"Class value of image =\", y_train[index], \":\", class_val_name_map[y_train[index]])\n",
    "    \n",
    "# Bar chart of input distribution\n",
    "plt.figure(1)\n",
    "plt.bar(unique_classes, class_counts, align='center', alpha=0.5)\n",
    "plt.xlabel('Class label')\n",
    "plt.ylabel('Nbr occurances')\n",
    "plt.title('Class label occurance in test set')\n",
    "plt.savefig('plots/class_label_occurance.png')\n",
    "plt.close(1)\n",
    "\n",
    "# Read csv\n",
    "class_val_name_map = parse_csv('signnames.csv')\n",
    "\n",
    "# Load random picture and output its class\n",
    "show_image(random.randint(0, len(X_train)))\n",
    "\n",
    "print(\"Minimum occurance count of class \", class_val_name_map[np.argmin(class_counts)], \"=\", min(class_counts))\n",
    "print(\"Maximum occurance count of class \", class_val_name_map[np.argmax(class_counts)], \"=\", max(class_counts))"
   ]
  },
  {
   "cell_type": "markdown",
   "metadata": {},
   "source": [
    "----\n",
    "\n",
    "## Step 2: Design and Test a Model Architecture\n",
    "\n",
    "Design and implement a deep learning model that learns to recognize traffic signs. Train and test your model on the [German Traffic Sign Dataset](http://benchmark.ini.rub.de/?section=gtsrb&subsection=dataset).\n",
    "\n",
    "The LeNet-5 implementation shown in the [classroom](https://classroom.udacity.com/nanodegrees/nd013/parts/fbf77062-5703-404e-b60c-95b78b2f3f9e/modules/6df7ae49-c61c-4bb2-a23e-6527e69209ec/lessons/601ae704-1035-4287-8b11-e2c2716217ad/concepts/d4aca031-508f-4e0b-b493-e7b706120f81) at the end of the CNN lesson is a solid starting point. You'll have to change the number of classes and possibly the preprocessing, but aside from that it's plug and play! \n",
    "\n",
    "With the LeNet-5 solution from the lecture, you should expect a validation set accuracy of about 0.89. To meet specifications, the validation set accuracy will need to be at least 0.93. It is possible to get an even higher accuracy, but 0.93 is the minimum for a successful project submission. \n",
    "\n",
    "There are various aspects to consider when thinking about this problem:\n",
    "\n",
    "- Neural network architecture (is the network over or underfitting?)\n",
    "- Play around preprocessing techniques (normalization, rgb to grayscale, etc)\n",
    "- Number of examples per label (some have more than others).\n",
    "- Generate fake data.\n",
    "\n",
    "Here is an example of a [published baseline model on this problem](http://yann.lecun.com/exdb/publis/pdf/sermanet-ijcnn-11.pdf). It's not required to be familiar with the approach used in the paper but, it's good practice to try to read papers like these."
   ]
  },
  {
   "cell_type": "markdown",
   "metadata": {},
   "source": [
    "### Pre-process the Data Set (normalization, grayscale, etc.)"
   ]
  },
  {
   "cell_type": "markdown",
   "metadata": {},
   "source": [
    "Minimally, the image data should be normalized so that the data has mean zero and equal variance. For image data, `(pixel - 128)/ 128` is a quick way to approximately normalize the data and can be used in this project. \n",
    "\n",
    "Other pre-processing steps are optional. You can try different techniques to see if it improves performance. \n",
    "\n",
    "Use the code cell (or multiple code cells, if necessary) to implement the first step of your project."
   ]
  },
  {
   "cell_type": "code",
   "execution_count": 5,
   "metadata": {},
   "outputs": [
    {
     "name": "stdout",
     "output_type": "stream",
     "text": [
      "Augmentation factors: [9 1 1 2 1 1 5 2 2 2 1 2 1 1 3 3 5 2 2 9 5 6 5 4 7 2 3 8 4 7 4 3 8 3 5 2 5\n",
      " 9 1 6 5 8 8]\n",
      "\n",
      "Augmenting...\n",
      "...Done\n",
      "\n",
      "Size of augmented training set: 115616\n",
      "Minimum occurance count of class  Speed limit (20km/h) = 1800\n",
      "Maximum occurance count of class  Road work = 4050\n"
     ]
    }
   ],
   "source": [
    "### Augmentation of the data\n",
    "\n",
    "# Minimum allowed class count after augmentation\n",
    "MIN_AUG_CLASS_COUNT = 1500\n",
    "\n",
    "# Augmentation methods\n",
    "def rotate_right(image):\n",
    "    angle = random.randint(4, 8)\n",
    "    image = imgtf.rotate(image, angle, mode='wrap', preserve_range=True)\n",
    "    return np.clip(image, 0, 255).astype(np.uint8)\n",
    "\n",
    "def rotate_left(image):\n",
    "    angle = -random.randint(4, 8)\n",
    "    image = imgtf.rotate(image, angle, mode='wrap', preserve_range=True)\n",
    "    return np.clip(image, 0, 255).astype(np.uint8)\n",
    "\n",
    "def scale_up(image):\n",
    "    factor = random.uniform(0.8, 0.9)\n",
    "    c = (image.shape[0] / 2 * (1 - factor), image.shape[1] / 2 * (1 - factor))\n",
    "    transform = imgtf.AffineTransform(scale=(factor, factor), translation=c)\n",
    "    image = imgtf.warp(image, transform, mode='wrap', preserve_range=True)\n",
    "    return np.clip(image, 0, 255).astype(np.uint8)\n",
    "\n",
    "def scale_down(image):\n",
    "    factor = random.uniform(1.1, 1.2)\n",
    "    c = (image.shape[0] / 2 * (1 - factor), image.shape[1] / 2 * (1 - factor))\n",
    "    transform = imgtf.AffineTransform(scale=(factor, factor), translation=c)\n",
    "    image = imgtf.warp(image, transform, mode='wrap', preserve_range=True)\n",
    "    return np.clip(image, 0, 255).astype(np.uint8)\n",
    "\n",
    "def bulge_horizontal(image):\n",
    "    factor = random.uniform(1.2, 1.3)\n",
    "    c = (image.shape[0] / 2 * (1 - factor), 0)\n",
    "    transform = imgtf.AffineTransform(scale=(factor, 1.0), translation=c)\n",
    "    image = imgtf.warp(image, transform, mode='wrap', preserve_range=True)\n",
    "    return np.clip(image, 0, 255).astype(np.uint8)\n",
    "\n",
    "def bulge_vertical(image):\n",
    "    factor = random.uniform(1.2, 1.3)\n",
    "    c = (0, image.shape[0] / 2 * (1 - factor))\n",
    "    transform = imgtf.AffineTransform(scale=(1.0, factor), translation=c)\n",
    "    image = imgtf.warp(image, transform, mode='wrap', preserve_range=True)\n",
    "    return np.clip(image, 0, 255).astype(np.uint8)\n",
    "\n",
    "def move_right(image):\n",
    "    offset_x = 2\n",
    "    offset_y = random.randint(-2, 2)\n",
    "    transform = imgtf.AffineTransform(translation=(offset_x, offset_y))\n",
    "    image = imgtf.warp(image, transform, mode='wrap', preserve_range=True)\n",
    "    return np.clip(image, 0, 255).astype(np.uint8)\n",
    "\n",
    "def move_left(image):\n",
    "    offset_x = -2\n",
    "    offset_y = random.randint(-2, 2)\n",
    "    transform = imgtf.AffineTransform(translation=(offset_x, offset_y))\n",
    "    image = imgtf.warp(image, transform, mode='wrap', preserve_range=True)\n",
    "    return np.clip(image, 0, 255).astype(np.uint8)\n",
    "\n",
    "def shear_right(image):\n",
    "    angle = random.uniform(0.1, 0.2)\n",
    "    c = (4 * angle, 2)\n",
    "    transform = imgtf.AffineTransform(shear=angle, translation=c)\n",
    "    image = imgtf.warp(image, transform, mode='wrap', preserve_range=True)\n",
    "    return np.clip(image, 0, 255).astype(np.uint8)\n",
    "\n",
    "def shear_left(image):\n",
    "    angle = -random.uniform(0.1, 0.2)\n",
    "    c = (4 * angle, 2)\n",
    "    transform = imgtf.AffineTransform(shear=angle, translation=c)\n",
    "    image = imgtf.warp(image, transform, mode='wrap', preserve_range=True)\n",
    "    return np.clip(image, 0, 255).astype(np.uint8)\n",
    "\n",
    "aug_operations = {\n",
    "    0: rotate_right,\n",
    "    1: rotate_left,\n",
    "    2: scale_up,\n",
    "    3: scale_down,\n",
    "    4: bulge_horizontal,\n",
    "    5: bulge_vertical,\n",
    "    6: move_right,\n",
    "    7: move_left,\n",
    "    8: shear_right,\n",
    "    9: shear_left}\n",
    "\n",
    "# Calculate how many copies of each image need to be made during augmentation\n",
    "class_aug_multiplier = np.zeros([n_classes], dtype=np.int)\n",
    "for i in range(n_classes):\n",
    "    class_aug_multiplier[i] = MIN_AUG_CLASS_COUNT // class_counts[i]\n",
    "    if (MIN_AUG_CLASS_COUNT % class_counts[i] != 0):\n",
    "        class_aug_multiplier[i] += 1\n",
    "print(\"Augmentation factors:\", class_aug_multiplier)\n",
    "print()\n",
    "\n",
    "# Do the augmentation\n",
    "print(\"Augmenting...\")\n",
    "x_aug = []\n",
    "y_aug = []\n",
    "for i in range(len(X_train)):\n",
    "    aug_ops = np.random.choice([0, 1, 2, 3, 4, 5, 6, 7, 8, 9], class_aug_multiplier[y_train[i]])\n",
    "    for op in aug_ops:\n",
    "        x_aug.append(aug_operations[op](X_train[i]))\n",
    "        y_aug.append(y_train[i])\n",
    "print(\"...Done\")\n",
    "print()\n",
    "\n",
    "# Add augmented images to training set\n",
    "x_aug = np.array(x_aug)\n",
    "y_aug = np.array(y_aug)\n",
    "X_train = np.concatenate((X_train, x_aug))\n",
    "y_train = np.concatenate((y_train, y_aug))\n",
    "\n",
    "# Size of augmented training set\n",
    "n_train = len(X_train)\n",
    "print(\"Size of augmented training set:\", n_train)\n",
    "unique_classes, class_counts = np.unique(y_train, return_counts=True)\n",
    "print(\"Minimum occurance count of class \", class_val_name_map[np.argmin(class_counts)], \"=\", min(class_counts))\n",
    "print(\"Maximum occurance count of class \", class_val_name_map[np.argmax(class_counts)], \"=\", max(class_counts))"
   ]
  },
  {
   "cell_type": "code",
   "execution_count": 5,
   "metadata": {},
   "outputs": [
    {
     "name": "stdout",
     "output_type": "stream",
     "text": [
      "Number of color channels: 1\n"
     ]
    }
   ],
   "source": [
    "### Preprocessing of the data\n",
    "    \n",
    "# Transform RGB to YUV\n",
    "def to_YUV(x_data):\n",
    "    T = np.array([[ 0.299,    0.587,    0.114],\n",
    "                  [-0.14713, -0.28886,  0.436],\n",
    "                  [ 0.615,   -0.51499, -0.10001]])\n",
    "    x_data = np.dot(x_data, np.transpose(T))\n",
    "    return x_data\n",
    "\n",
    "def to_Y_of_YUV(x_data):\n",
    "    T = np.array([0.299, 0.587, 0.114])\n",
    "    x_grayscale = np.dot(x_data, np.transpose(T))\n",
    "    return np.expand_dims(x_grayscale, axis=4)\n",
    "\n",
    "# Define a preprocessing function\n",
    "def preprocess_data(x_data):\n",
    "    x_data = to_Y_of_YUV(x_data)\n",
    "    x_data = ((x_data - 128) / 128)\n",
    "    #for i in range(x_data.shape[0]):\n",
    "    #    for j in range(x_data.shape[3]):\n",
    "    #        x_min = np.min(x_data[i][:,:,j:j+1])\n",
    "    #        x_max = np.max(x_data[i][:,:,j:j+1])\n",
    "    #        x_data[i][:,:,j:j+1] = (((x_data[i][:,:,j:j+1] - x_min) / (x_max - x_min)) - 0.5)\n",
    "    return x_data\n",
    "\n",
    "# Preprocess all data\n",
    "X_train_pro = preprocess_data(X_train)\n",
    "X_train_pro = preprocess_data(X_train)\n",
    "y_train_pro = y_train\n",
    "X_valid_pro = preprocess_data(X_valid)\n",
    "y_valid_pro = y_valid\n",
    "X_test_pro  = preprocess_data(X_test)\n",
    "y_test_pro  = y_test\n",
    "\n",
    "# Output the number of color channels\n",
    "nbr_color_channels = X_train_pro.shape[3]\n",
    "print(\"Number of color channels:\", nbr_color_channels)"
   ]
  },
  {
   "cell_type": "markdown",
   "metadata": {},
   "source": [
    "### Model Architecture"
   ]
  },
  {
   "cell_type": "code",
   "execution_count": 8,
   "metadata": {
    "collapsed": true
   },
   "outputs": [],
   "source": [
    "### Definitinon of convolutional network architecture.\n",
    "\n",
    "# Parametrization of Convolutional Network\n",
    "mu = 0\n",
    "sigma = 0.1\n",
    "dropout_prob = tf.placeholder(tf.float32)\n",
    "\n",
    "# Layer 1: Convolutional. Input 32x32xnbr_color_channels. Output 28x28x18\n",
    "conv1_W = tf.Variable(tf.truncated_normal((5, 5, nbr_color_channels, 12), mu, sigma))\n",
    "conv1_b = tf.Variable(tf.zeros(12))\n",
    "\n",
    "# Layer 2: Convolutional. Input = 14x14x12. Output = 10x10x16.\n",
    "conv2_W = tf.Variable(tf.truncated_normal((5, 5, 12, 32), mu, sigma))\n",
    "conv2_b = tf.Variable(tf.zeros(32))\n",
    "    \n",
    "# Layer 3: Fully Connected. Input = 800. Output = 200.\n",
    "full3_W = tf.Variable(tf.truncated_normal((800, 200), mu, sigma))\n",
    "full3_b = tf.Variable(tf.zeros(200))\n",
    "    \n",
    "# Layer 4: Fully Connected. Input = 120. Output = 84.\n",
    "full4_W = tf.Variable(tf.truncated_normal((200, 120), mu, sigma))\n",
    "full4_b = tf.Variable(tf.zeros(120))\n",
    "    \n",
    "# Layer 5: Fully Connected. Input = 120. Output = n_classes.\n",
    "full5_W = tf.Variable(tf.truncated_normal((120, n_classes), mu, sigma))\n",
    "full5_b = tf.Variable(tf.zeros(n_classes))\n",
    "    \n",
    "def ConvNet(x):\n",
    "\n",
    "    # Layer 1: Convolutional. Input 32x32xnbr_color_channels. Output 28x28x12\n",
    "    conv1   = tf.nn.conv2d(x, conv1_W, [1, 1, 1, 1], 'VALID') + conv1_b\n",
    "\n",
    "    # Layer 1: Activation.\n",
    "    conv1 = tf.nn.relu(conv1)\n",
    "\n",
    "    # Layer 1: Pooling. Input = 28x28x6. Output = 14x14x6.\n",
    "    conv1 = tf.nn.max_pool(conv1, [1, 2, 2, 1], [1, 2, 2, 1], 'VALID')\n",
    "\n",
    "    # Layer 2: Convolutional. Input = 14x14x6. Output = 10x10x16.\n",
    "    conv2   = tf.nn.conv2d(conv1, conv2_W, [1, 1, 1, 1], 'VALID') + conv2_b\n",
    "\n",
    "    # Layer 2: Activation.\n",
    "    conv2 = tf.nn.relu(conv2)\n",
    "\n",
    "    # Layer 2: Pooling. Input = 10x10x16. Output = 5x5x16.\n",
    "    conv2 = tf.nn.max_pool(conv2, [1, 2, 2, 1], [1, 2, 2, 1], 'VALID')\n",
    "\n",
    "    # Layer 2 -> Layer 3: Flatten the data\n",
    "    conv2_flat = flatten(conv2)\n",
    "\n",
    "    # Layer 3: Fully Connected. Input = 400. Output = 120.\n",
    "    full3   = tf.matmul(conv2_flat, full3_W) + full3_b\n",
    "\n",
    "    # Layer 3: Activation\n",
    "    full3 = tf.nn.relu(full3)\n",
    "\n",
    "    # Layer 3: Dropout\n",
    "    #full3 = tf.nn.dropout(full3, dropout_prob)\n",
    "\n",
    "    # Layer 4: Fully Connected. Input = 120. Output = 84.\n",
    "    full4   = tf.matmul(full3, full4_W) + full4_b\n",
    "\n",
    "    # Layer 4: Activation\n",
    "    full4 = tf.nn.relu(full4)\n",
    "\n",
    "    # Layer 4: Dropout\n",
    "    #full4 = tf.nn.dropout(full4, dropout_prob)\n",
    "\n",
    "    # Layer 5: Fully Connected. Input = 84. Output = n_classes.\n",
    "    full5   = tf.matmul(full4, full5_W) + full5_b\n",
    "\n",
    "    return full5"
   ]
  },
  {
   "cell_type": "markdown",
   "metadata": {},
   "source": [
    "### Train, Validate and Test the Model"
   ]
  },
  {
   "cell_type": "markdown",
   "metadata": {},
   "source": [
    "A validation set can be used to assess how well the model is performing. A low accuracy on the training and validation\n",
    "sets imply underfitting. A high accuracy on the training set but low accuracy on the validation set implies overfitting."
   ]
  },
  {
   "cell_type": "code",
   "execution_count": 9,
   "metadata": {},
   "outputs": [
    {
     "name": "stdout",
     "output_type": "stream",
     "text": [
      "Training...\n",
      "\n",
      "  EPOCH 1 ...\n",
      "  Training   Accuracy = 0.915\n",
      "  Validation Accuracy = 0.830\n",
      "\n",
      "  EPOCH 2 ...\n",
      "  Training   Accuracy = 0.964\n",
      "  Validation Accuracy = 0.886\n",
      "\n",
      "  EPOCH 3 ...\n",
      "  Training   Accuracy = 0.980\n",
      "  Validation Accuracy = 0.904\n",
      "\n",
      "  EPOCH 4 ...\n",
      "  Training   Accuracy = 0.990\n",
      "  Validation Accuracy = 0.912\n",
      "\n",
      "  EPOCH 5 ...\n",
      "  Training   Accuracy = 0.993\n",
      "  Validation Accuracy = 0.915\n",
      "\n",
      "  EPOCH 6 ...\n",
      "  Training   Accuracy = 0.995\n",
      "  Validation Accuracy = 0.927\n",
      "\n",
      "  EPOCH 7 ...\n",
      "  Training   Accuracy = 0.992\n",
      "  Validation Accuracy = 0.924\n",
      "\n",
      "  EPOCH 8 ...\n",
      "  Training   Accuracy = 0.996\n",
      "  Validation Accuracy = 0.932\n",
      "\n",
      "  EPOCH 9 ...\n",
      "  Training   Accuracy = 0.995\n",
      "  Validation Accuracy = 0.929\n",
      "\n",
      "  EPOCH 10 ...\n",
      "  Training   Accuracy = 0.999\n",
      "  Validation Accuracy = 0.926\n",
      "\n",
      "  EPOCH 11 ...\n",
      "  Training   Accuracy = 0.993\n",
      "  Validation Accuracy = 0.917\n",
      "\n",
      "  EPOCH 12 ...\n",
      "  Training   Accuracy = 0.997\n",
      "  Validation Accuracy = 0.931\n",
      "\n",
      "  EPOCH 13 ...\n",
      "  Training   Accuracy = 0.999\n",
      "  Validation Accuracy = 0.937\n",
      "\n",
      "  EPOCH 14 ...\n",
      "  Training   Accuracy = 0.998\n",
      "  Validation Accuracy = 0.937\n",
      "\n",
      "  EPOCH 15 ...\n",
      "  Training   Accuracy = 0.995\n",
      "  Validation Accuracy = 0.925\n",
      "\n"
     ]
    },
    {
     "ename": "KeyboardInterrupt",
     "evalue": "",
     "output_type": "error",
     "traceback": [
      "\u001b[1;31m---------------------------------------------------------------------------\u001b[0m",
      "\u001b[1;31mKeyboardInterrupt\u001b[0m                         Traceback (most recent call last)",
      "\u001b[1;32m<ipython-input-9-26e16d62df35>\u001b[0m in \u001b[0;36m<module>\u001b[1;34m()\u001b[0m\n\u001b[0;32m     58\u001b[0m             \u001b[0mbatch_X\u001b[0m \u001b[1;33m=\u001b[0m \u001b[0mX_train_pro\u001b[0m\u001b[1;33m[\u001b[0m\u001b[0moffset\u001b[0m\u001b[1;33m:\u001b[0m\u001b[0moffset\u001b[0m\u001b[1;33m+\u001b[0m\u001b[0mBATCH_SIZE\u001b[0m\u001b[1;33m]\u001b[0m\u001b[1;33m\u001b[0m\u001b[0m\n\u001b[0;32m     59\u001b[0m             \u001b[0mbatch_y\u001b[0m \u001b[1;33m=\u001b[0m \u001b[0my_train_pro\u001b[0m\u001b[1;33m[\u001b[0m\u001b[0moffset\u001b[0m\u001b[1;33m:\u001b[0m\u001b[0moffset\u001b[0m\u001b[1;33m+\u001b[0m\u001b[0mBATCH_SIZE\u001b[0m\u001b[1;33m]\u001b[0m\u001b[1;33m\u001b[0m\u001b[0m\n\u001b[1;32m---> 60\u001b[1;33m             \u001b[0msess\u001b[0m\u001b[1;33m.\u001b[0m\u001b[0mrun\u001b[0m\u001b[1;33m(\u001b[0m\u001b[0mtraining_operation\u001b[0m\u001b[1;33m,\u001b[0m \u001b[0mfeed_dict\u001b[0m\u001b[1;33m=\u001b[0m\u001b[1;33m{\u001b[0m\u001b[0mx\u001b[0m\u001b[1;33m:\u001b[0m \u001b[0mbatch_X\u001b[0m\u001b[1;33m,\u001b[0m \u001b[0my\u001b[0m\u001b[1;33m:\u001b[0m \u001b[0mbatch_y\u001b[0m\u001b[1;33m}\u001b[0m\u001b[1;33m)\u001b[0m\u001b[1;33m\u001b[0m\u001b[0m\n\u001b[0m\u001b[0;32m     61\u001b[0m         \u001b[0mprint\u001b[0m\u001b[1;33m(\u001b[0m\u001b[1;34m\"  EPOCH {} ...\"\u001b[0m\u001b[1;33m.\u001b[0m\u001b[0mformat\u001b[0m\u001b[1;33m(\u001b[0m\u001b[0mi\u001b[0m\u001b[1;33m+\u001b[0m\u001b[1;36m1\u001b[0m\u001b[1;33m)\u001b[0m\u001b[1;33m)\u001b[0m\u001b[1;33m\u001b[0m\u001b[0m\n\u001b[0;32m     62\u001b[0m         \u001b[0mprint\u001b[0m\u001b[1;33m(\u001b[0m\u001b[1;34m\"  Training   Accuracy = {:.3f}\"\u001b[0m\u001b[1;33m.\u001b[0m\u001b[0mformat\u001b[0m\u001b[1;33m(\u001b[0m\u001b[0mevaluate\u001b[0m\u001b[1;33m(\u001b[0m\u001b[0mX_train_pro\u001b[0m\u001b[1;33m,\u001b[0m \u001b[0my_train_pro\u001b[0m\u001b[1;33m)\u001b[0m\u001b[1;33m)\u001b[0m\u001b[1;33m)\u001b[0m\u001b[1;33m\u001b[0m\u001b[0m\n",
      "\u001b[1;32mX:\\Applications\\Miniconda3\\envs\\carnd-term1\\lib\\site-packages\\tensorflow\\python\\client\\session.py\u001b[0m in \u001b[0;36mrun\u001b[1;34m(self, fetches, feed_dict, options, run_metadata)\u001b[0m\n\u001b[0;32m    764\u001b[0m     \u001b[1;32mtry\u001b[0m\u001b[1;33m:\u001b[0m\u001b[1;33m\u001b[0m\u001b[0m\n\u001b[0;32m    765\u001b[0m       result = self._run(None, fetches, feed_dict, options_ptr,\n\u001b[1;32m--> 766\u001b[1;33m                          run_metadata_ptr)\n\u001b[0m\u001b[0;32m    767\u001b[0m       \u001b[1;32mif\u001b[0m \u001b[0mrun_metadata\u001b[0m\u001b[1;33m:\u001b[0m\u001b[1;33m\u001b[0m\u001b[0m\n\u001b[0;32m    768\u001b[0m         \u001b[0mproto_data\u001b[0m \u001b[1;33m=\u001b[0m \u001b[0mtf_session\u001b[0m\u001b[1;33m.\u001b[0m\u001b[0mTF_GetBuffer\u001b[0m\u001b[1;33m(\u001b[0m\u001b[0mrun_metadata_ptr\u001b[0m\u001b[1;33m)\u001b[0m\u001b[1;33m\u001b[0m\u001b[0m\n",
      "\u001b[1;32mX:\\Applications\\Miniconda3\\envs\\carnd-term1\\lib\\site-packages\\tensorflow\\python\\client\\session.py\u001b[0m in \u001b[0;36m_run\u001b[1;34m(self, handle, fetches, feed_dict, options, run_metadata)\u001b[0m\n\u001b[0;32m    962\u001b[0m     \u001b[1;32mif\u001b[0m \u001b[0mfinal_fetches\u001b[0m \u001b[1;32mor\u001b[0m \u001b[0mfinal_targets\u001b[0m\u001b[1;33m:\u001b[0m\u001b[1;33m\u001b[0m\u001b[0m\n\u001b[0;32m    963\u001b[0m       results = self._do_run(handle, final_targets, final_fetches,\n\u001b[1;32m--> 964\u001b[1;33m                              feed_dict_string, options, run_metadata)\n\u001b[0m\u001b[0;32m    965\u001b[0m     \u001b[1;32melse\u001b[0m\u001b[1;33m:\u001b[0m\u001b[1;33m\u001b[0m\u001b[0m\n\u001b[0;32m    966\u001b[0m       \u001b[0mresults\u001b[0m \u001b[1;33m=\u001b[0m \u001b[1;33m[\u001b[0m\u001b[1;33m]\u001b[0m\u001b[1;33m\u001b[0m\u001b[0m\n",
      "\u001b[1;32mX:\\Applications\\Miniconda3\\envs\\carnd-term1\\lib\\site-packages\\tensorflow\\python\\client\\session.py\u001b[0m in \u001b[0;36m_do_run\u001b[1;34m(self, handle, target_list, fetch_list, feed_dict, options, run_metadata)\u001b[0m\n\u001b[0;32m   1012\u001b[0m     \u001b[1;32mif\u001b[0m \u001b[0mhandle\u001b[0m \u001b[1;32mis\u001b[0m \u001b[1;32mNone\u001b[0m\u001b[1;33m:\u001b[0m\u001b[1;33m\u001b[0m\u001b[0m\n\u001b[0;32m   1013\u001b[0m       return self._do_call(_run_fn, self._session, feed_dict, fetch_list,\n\u001b[1;32m-> 1014\u001b[1;33m                            target_list, options, run_metadata)\n\u001b[0m\u001b[0;32m   1015\u001b[0m     \u001b[1;32melse\u001b[0m\u001b[1;33m:\u001b[0m\u001b[1;33m\u001b[0m\u001b[0m\n\u001b[0;32m   1016\u001b[0m       return self._do_call(_prun_fn, self._session, handle, feed_dict,\n",
      "\u001b[1;32mX:\\Applications\\Miniconda3\\envs\\carnd-term1\\lib\\site-packages\\tensorflow\\python\\client\\session.py\u001b[0m in \u001b[0;36m_do_call\u001b[1;34m(self, fn, *args)\u001b[0m\n\u001b[0;32m   1019\u001b[0m   \u001b[1;32mdef\u001b[0m \u001b[0m_do_call\u001b[0m\u001b[1;33m(\u001b[0m\u001b[0mself\u001b[0m\u001b[1;33m,\u001b[0m \u001b[0mfn\u001b[0m\u001b[1;33m,\u001b[0m \u001b[1;33m*\u001b[0m\u001b[0margs\u001b[0m\u001b[1;33m)\u001b[0m\u001b[1;33m:\u001b[0m\u001b[1;33m\u001b[0m\u001b[0m\n\u001b[0;32m   1020\u001b[0m     \u001b[1;32mtry\u001b[0m\u001b[1;33m:\u001b[0m\u001b[1;33m\u001b[0m\u001b[0m\n\u001b[1;32m-> 1021\u001b[1;33m       \u001b[1;32mreturn\u001b[0m \u001b[0mfn\u001b[0m\u001b[1;33m(\u001b[0m\u001b[1;33m*\u001b[0m\u001b[0margs\u001b[0m\u001b[1;33m)\u001b[0m\u001b[1;33m\u001b[0m\u001b[0m\n\u001b[0m\u001b[0;32m   1022\u001b[0m     \u001b[1;32mexcept\u001b[0m \u001b[0merrors\u001b[0m\u001b[1;33m.\u001b[0m\u001b[0mOpError\u001b[0m \u001b[1;32mas\u001b[0m \u001b[0me\u001b[0m\u001b[1;33m:\u001b[0m\u001b[1;33m\u001b[0m\u001b[0m\n\u001b[0;32m   1023\u001b[0m       \u001b[0mmessage\u001b[0m \u001b[1;33m=\u001b[0m \u001b[0mcompat\u001b[0m\u001b[1;33m.\u001b[0m\u001b[0mas_text\u001b[0m\u001b[1;33m(\u001b[0m\u001b[0me\u001b[0m\u001b[1;33m.\u001b[0m\u001b[0mmessage\u001b[0m\u001b[1;33m)\u001b[0m\u001b[1;33m\u001b[0m\u001b[0m\n",
      "\u001b[1;32mX:\\Applications\\Miniconda3\\envs\\carnd-term1\\lib\\site-packages\\tensorflow\\python\\client\\session.py\u001b[0m in \u001b[0;36m_run_fn\u001b[1;34m(session, feed_dict, fetch_list, target_list, options, run_metadata)\u001b[0m\n\u001b[0;32m   1001\u001b[0m         return tf_session.TF_Run(session, options,\n\u001b[0;32m   1002\u001b[0m                                  \u001b[0mfeed_dict\u001b[0m\u001b[1;33m,\u001b[0m \u001b[0mfetch_list\u001b[0m\u001b[1;33m,\u001b[0m \u001b[0mtarget_list\u001b[0m\u001b[1;33m,\u001b[0m\u001b[1;33m\u001b[0m\u001b[0m\n\u001b[1;32m-> 1003\u001b[1;33m                                  status, run_metadata)\n\u001b[0m\u001b[0;32m   1004\u001b[0m \u001b[1;33m\u001b[0m\u001b[0m\n\u001b[0;32m   1005\u001b[0m     \u001b[1;32mdef\u001b[0m \u001b[0m_prun_fn\u001b[0m\u001b[1;33m(\u001b[0m\u001b[0msession\u001b[0m\u001b[1;33m,\u001b[0m \u001b[0mhandle\u001b[0m\u001b[1;33m,\u001b[0m \u001b[0mfeed_dict\u001b[0m\u001b[1;33m,\u001b[0m \u001b[0mfetch_list\u001b[0m\u001b[1;33m)\u001b[0m\u001b[1;33m:\u001b[0m\u001b[1;33m\u001b[0m\u001b[0m\n",
      "\u001b[1;31mKeyboardInterrupt\u001b[0m: "
     ]
    }
   ],
   "source": [
    "### Model is trained here.\n",
    "### Accuracy on the training and validation set are calculated and reported.\n",
    "### TODO: Once a final model architecture is selected, \n",
    "### the accuracy on the test set should be calculated and reported as well.\n",
    "\n",
    "# Define training size and duration\n",
    "EPOCHS = 30\n",
    "BATCH_SIZE = 128\n",
    "\n",
    "# Define placeholder nodes for input and output\n",
    "x = tf.placeholder(tf.float32, (None, 32, 32, nbr_color_channels))\n",
    "y = tf.placeholder(tf.int32, (None))\n",
    "one_hot_y = tf.one_hot(y, 43)\n",
    "\n",
    "# Define learning rate\n",
    "rate = 0.001\n",
    "\n",
    "# Define training pipeline\n",
    "logits = ConvNet(x)\n",
    "model_prediction   = tf.argmax(logits, 1)\n",
    "cross_entropy      = tf.nn.softmax_cross_entropy_with_logits(labels=one_hot_y, logits=logits)\n",
    "loss_operation     = tf.reduce_mean(cross_entropy)\n",
    "optimizer          = tf.train.AdamOptimizer(learning_rate=rate)\n",
    "training_operation = optimizer.minimize(loss_operation)\n",
    "\n",
    "# Define evaluation pipeline\n",
    "correct_prediction = tf.equal(tf.argmax(logits, 1), tf.argmax(one_hot_y, 1))\n",
    "accuracy_operation = tf.reduce_mean(tf.cast(correct_prediction, tf.float32))\n",
    "\n",
    "#Prepare to save/restore the session\n",
    "saver = tf.train.Saver()\n",
    "\n",
    "# Define helper method to calculate accuracy\n",
    "def evaluate(X_data, y_data):\n",
    "    num_examples = len(X_data)\n",
    "    total_accuracy = 0\n",
    "    sess = tf.get_default_session()\n",
    "    for offset in range(0, num_examples, BATCH_SIZE):\n",
    "        batch_X = X_data[offset:offset+BATCH_SIZE]\n",
    "        batch_y = y_data[offset:offset+BATCH_SIZE]\n",
    "        accuracy = sess.run(accuracy_operation, feed_dict={x: batch_X, y: batch_y})\n",
    "        total_accuracy += (accuracy * len(batch_X))\n",
    "    return total_accuracy / num_examples\n",
    "\n",
    "# Now run everything...\n",
    "with tf.Session() as sess:\n",
    "    # some preparation\n",
    "    sess.run(tf.global_variables_initializer())\n",
    "    training_size   = len(X_train_pro)\n",
    "    validation_size = len(X_valid_pro)\n",
    "    print(\"Training...\")\n",
    "    print()\n",
    "    \n",
    "    # run training loop\n",
    "    for i in range(EPOCHS):\n",
    "        X_train_pro, y_train_pro = shuffle(X_train_pro, y_train_pro)\n",
    "        for offset in range(0, training_size, BATCH_SIZE):\n",
    "            batch_X = X_train_pro[offset:offset+BATCH_SIZE]\n",
    "            batch_y = y_train_pro[offset:offset+BATCH_SIZE]\n",
    "            sess.run(training_operation, feed_dict={x: batch_X, y: batch_y})\n",
    "        print(\"  EPOCH {} ...\".format(i+1))\n",
    "        print(\"  Training   Accuracy = {:.3f}\".format(evaluate(X_train_pro, y_train_pro)))\n",
    "        print(\"  Validation Accuracy = {:.3f}\".format(evaluate(X_valid_pro, y_valid_pro)))\n",
    "        print()\n",
    "    saver.save(sess, './convnet')\n",
    "    print(\"...Saved and done\")\n",
    "    print()\n",
    "    \n",
    "    # run additional evaluation on predictions\n",
    "    print(\"Evaluating...\")\n",
    "    print()\n",
    "    prediction_matrix = np.zeros([n_classes, n_classes], dtype=np.int) # counts occurances of [correct_class, matched_class]\n",
    "    for i in range(validation_size):\n",
    "        batch_X = X_valid_pro[i:i+1]\n",
    "        batch_y = y_valid_pro[i:i+1]\n",
    "        prediction_value = sess.run(model_prediction, feed_dict={x: batch_X, y: batch_y})\n",
    "        if (y_valid_pro[i] < n_classes) & (prediction_value < n_classes):\n",
    "            prediction_matrix[y_valid_pro[i], prediction_value] += 1\n",
    "    \n",
    "    # output additional evaluation on predictions\n",
    "    valid_unique_classes, valid_class_counts = np.unique(y_valid_pro, return_counts=True)\n",
    "    for i in range(n_classes):\n",
    "        print(i, class_val_name_map[i], \":\", prediction_matrix[i][i], \"of\", valid_class_counts[i])\n",
    "        for j in range(n_classes):\n",
    "            if (i != j) & (prediction_matrix[i][j] / valid_class_counts[i] > 0.005):\n",
    "                print(\"   erroneously matched to\", class_val_name_map[j], \"with probability {:.3f}\".format(prediction_matrix[i][j] / valid_class_counts[i]))\n",
    "        "
   ]
  },
  {
   "cell_type": "markdown",
   "metadata": {},
   "source": [
    "---\n",
    "\n",
    "## Step 3: Test a Model on New Images\n",
    "\n",
    "To give yourself more insight into how your model is working, download at least five pictures of German traffic signs from the web and use your model to predict the traffic sign type.\n",
    "\n",
    "You may find `signnames.csv` useful as it contains mappings from the class id (integer) to the actual sign name."
   ]
  },
  {
   "cell_type": "markdown",
   "metadata": {},
   "source": [
    "### Load and Output the Images"
   ]
  },
  {
   "cell_type": "code",
   "execution_count": 9,
   "metadata": {},
   "outputs": [
    {
     "data": {
      "image/png": "[encoded data removed]",
      "text/plain": [
       "<matplotlib.figure.Figure at 0xeabc390>"
      ]
     },
     "metadata": {},
     "output_type": "display_data"
    },
    {
     "data": {
      "image/png": "[encoded data removed]",
      "text/plain": [
       "<matplotlib.figure.Figure at 0x1041a630>"
      ]
     },
     "metadata": {},
     "output_type": "display_data"
    },
    {
     "data": {
      "image/png": "[encoded data removed]",
      "text/plain": [
       "<matplotlib.figure.Figure at 0x12c5fb00>"
      ]
     },
     "metadata": {},
     "output_type": "display_data"
    },
    {
     "data": {
      "image/png": "[encoded data removed]",
      "text/plain": [
       "<matplotlib.figure.Figure at 0x12caec88>"
      ]
     },
     "metadata": {},
     "output_type": "display_data"
    },
    {
     "data": {
      "image/png": "[encoded data removed]",
      "text/plain": [
       "<matplotlib.figure.Figure at 0x10453e10>"
      ]
     },
     "metadata": {},
     "output_type": "display_data"
    }
   ],
   "source": [
    "### Load and plot some images from the internet.\n",
    "\n",
    "# Helper function to return RGB-pixel values of an image\n",
    "def load_image_data(image_file_name):\n",
    "    im = Image.open(image_file_name, 'r')\n",
    "    width, height = im.size\n",
    "    pixel_values = list(im.getdata())\n",
    "    pixel_values = np.array(pixel_values).reshape((width, height, 3))\n",
    "    return pixel_values.astype(dtype='uint8')\n",
    "\n",
    "# Load the images\n",
    "x_curve = load_image_data('examples/example_double-curve_32x32.png')\n",
    "plt.figure(figsize=(2,2))\n",
    "plt.imshow(x_curve)\n",
    "x_limit70 = load_image_data('examples/example_limit-70_32x32.png')\n",
    "plt.figure(figsize=(2,2))\n",
    "plt.imshow(x_limit70)\n",
    "x_roadworks = load_image_data('examples/example_road-works_32x32.png')\n",
    "plt.figure(figsize=(2,2))\n",
    "plt.imshow(x_roadworks)\n",
    "x_priority = load_image_data('examples/example_priority-road_32x32.png')\n",
    "plt.figure(figsize=(2,2))\n",
    "plt.imshow(x_priority)\n",
    "x_stop = load_image_data('examples/example_stop_32x32.png')\n",
    "plt.figure(figsize=(2,2))\n",
    "plt.imshow(x_stop)\n",
    "\n",
    "# Define the test data\n",
    "X_mytest = np.array([x_curve, x_limit70, x_roadworks, x_priority, x_stop])\n",
    "y_mytest = np.array([21,      4,         25,          12,         14])\n",
    "\n",
    "# Normalize the test data\n",
    "X_mytest_pro = preprocess_data(X_mytest)\n",
    "y_mytest_pro = y_mytest"
   ]
  },
  {
   "cell_type": "markdown",
   "metadata": {},
   "source": [
    "### Predict the Sign Type for Each Image"
   ]
  },
  {
   "cell_type": "code",
   "execution_count": 11,
   "metadata": {},
   "outputs": [
    {
     "name": "stdout",
     "output_type": "stream",
     "text": [
      "Image 1 got result label:  Road work\n",
      "Image 2 got result label:  Keep right\n",
      "Image 3 got result label:  No passing for vehicles over 3.5 metric tons\n",
      "Image 4 got result label:  Priority road\n",
      "Image 5 got result label:  Stop\n"
     ]
    }
   ],
   "source": [
    "### Runs and outputs the predictions for each image from the internet.\n",
    "with tf.Session() as sess:\n",
    "    saver.restore(sess, tf.train.latest_checkpoint('.'))\n",
    "    for i in range(len(y_mytest_pro)):\n",
    "        cur_X = X_mytest_pro[i:i+1]\n",
    "        cur_y = y_mytest_pro[i:i+1]\n",
    "        result_label = sess.run(model_prediction, feed_dict={x: cur_X, y: cur_y})\n",
    "        print(\"Image\", i+1, \"got result label: \", class_val_name_map[result_label[0]])      "
   ]
  },
  {
   "cell_type": "markdown",
   "metadata": {},
   "source": [
    "### Analyze Performance"
   ]
  },
  {
   "cell_type": "code",
   "execution_count": 12,
   "metadata": {},
   "outputs": [
    {
     "name": "stdout",
     "output_type": "stream",
     "text": [
      "New Image Accuracy = 0.600\n"
     ]
    }
   ],
   "source": [
    "### Calculate the accuracy for these 5 new images.\n",
    "with tf.Session() as sess:\n",
    "    saver.restore(sess, tf.train.latest_checkpoint('.'))\n",
    "    print(\"New Image Accuracy = {:.3f}\".format(evaluate(X_mytest_pro, y_mytest_pro)))"
   ]
  },
  {
   "cell_type": "markdown",
   "metadata": {},
   "source": [
    "### Output Top 5 Softmax Probabilities For Each Image Found on the Web"
   ]
  },
  {
   "cell_type": "markdown",
   "metadata": {},
   "source": [
    "For each of the new images, print out the model's softmax probabilities to show the **certainty** of the model's predictions (limit the output to the top 5 probabilities for each image). [`tf.nn.top_k`](https://www.tensorflow.org/versions/r0.12/api_docs/python/nn.html#top_k) could prove helpful here. \n",
    "\n",
    "The example below demonstrates how tf.nn.top_k can be used to find the top k predictions for each image.\n",
    "\n",
    "`tf.nn.top_k` will return the values and indices (class ids) of the top k predictions. So if k=3, for each sign, it'll return the 3 largest probabilities (out of a possible 43) and the correspoding class ids.\n",
    "\n",
    "Take this numpy array as an example. The values in the array represent predictions. The array contains softmax probabilities for five candidate images with six possible classes. `tk.nn.top_k` is used to choose the three classes with the highest probability:\n",
    "\n",
    "```\n",
    "# (5, 6) array\n",
    "a = np.array([[ 0.24879643,  0.07032244,  0.12641572,  0.34763842,  0.07893497,\n",
    "         0.12789202],\n",
    "       [ 0.28086119,  0.27569815,  0.08594638,  0.0178669 ,  0.18063401,\n",
    "         0.15899337],\n",
    "       [ 0.26076848,  0.23664738,  0.08020603,  0.07001922,  0.1134371 ,\n",
    "         0.23892179],\n",
    "       [ 0.11943333,  0.29198961,  0.02605103,  0.26234032,  0.1351348 ,\n",
    "         0.16505091],\n",
    "       [ 0.09561176,  0.34396535,  0.0643941 ,  0.16240774,  0.24206137,\n",
    "         0.09155967]])\n",
    "```\n",
    "\n",
    "Running it through `sess.run(tf.nn.top_k(tf.constant(a), k=3))` produces:\n",
    "\n",
    "```\n",
    "TopKV2(values=array([[ 0.34763842,  0.24879643,  0.12789202],\n",
    "       [ 0.28086119,  0.27569815,  0.18063401],\n",
    "       [ 0.26076848,  0.23892179,  0.23664738],\n",
    "       [ 0.29198961,  0.26234032,  0.16505091],\n",
    "       [ 0.34396535,  0.24206137,  0.16240774]]), indices=array([[3, 0, 5],\n",
    "       [0, 1, 4],\n",
    "       [0, 5, 1],\n",
    "       [1, 3, 5],\n",
    "       [1, 4, 3]], dtype=int32))\n",
    "```\n",
    "\n",
    "Looking just at the first row we get `[ 0.34763842,  0.24879643,  0.12789202]`, you can confirm these are the 3 largest probabilities in `a`. You'll also notice `[3, 0, 5]` are the corresponding indices."
   ]
  },
  {
   "cell_type": "code",
   "execution_count": 13,
   "metadata": {},
   "outputs": [
    {
     "name": "stdout",
     "output_type": "stream",
     "text": [
      "Image 0 ( Double curve ):\n",
      "   0.857 for label Right-of-way at the next intersection\n",
      "   0.068 for label Children crossing\n",
      "   0.021 for label Road narrows on the right\n",
      "   0.018 for label Pedestrians\n",
      "   0.011 for label Priority road\n",
      "Image 1 ( Speed limit (70km/h) ):\n",
      "   0.193 for label Keep right\n",
      "   0.109 for label Speed limit (30km/h)\n",
      "   0.088 for label Speed limit (50km/h)\n",
      "   0.052 for label No passing for vehicles over 3.5 metric tons\n",
      "   0.045 for label Speed limit (80km/h)\n",
      "Image 2 ( Road work ):\n",
      "   0.175 for label No passing for vehicles over 3.5 metric tons\n",
      "   0.121 for label Speed limit (50km/h)\n",
      "   0.118 for label Priority road\n",
      "   0.101 for label Speed limit (80km/h)\n",
      "   0.065 for label No passing\n",
      "Image 3 ( Priority road ):\n",
      "   0.564 for label Priority road\n",
      "   0.250 for label Roundabout mandatory\n",
      "   0.103 for label Speed limit (100km/h)\n",
      "   0.021 for label End of speed limit (80km/h)\n",
      "   0.020 for label Vehicles over 3.5 metric tons prohibited\n",
      "Image 4 ( Stop ):\n",
      "   0.211 for label Speed limit (50km/h)\n",
      "   0.183 for label Speed limit (60km/h)\n",
      "   0.176 for label Speed limit (80km/h)\n",
      "   0.093 for label End of speed limit (80km/h)\n",
      "   0.076 for label Speed limit (30km/h)\n"
     ]
    }
   ],
   "source": [
    "### Print out the top five softmax probabilities for the predictions on the German traffic sign images found on the web. \n",
    "\n",
    "model_softmax = tf.nn.softmax(logits)\n",
    "model_top3    = tf.nn.top_k(model_softmax, k=5)\n",
    "\n",
    "with tf.Session() as sess:\n",
    "    saver.restore(sess, tf.train.latest_checkpoint('.'))\n",
    "    top3_result = sess.run(model_top3, feed_dict={x: X_mytest_pro, y: y_mytest_pro})\n",
    "    for i in range (len(y_mytest)):\n",
    "        print(\"Image\", i, \"(\", class_val_name_map[y_mytest_pro[i]], \"):\")\n",
    "        for k in range (5):\n",
    "            print(\"   {:.3f}\".format(top3_result[0][i][k]), \"for label\", class_val_name_map[top3_result[1][i][k]], )\n"
   ]
  },
  {
   "cell_type": "markdown",
   "metadata": {},
   "source": [
    "### Project Writeup\n",
    "\n",
    "Once you have completed the code implementation, document your results in a project writeup using this [template](https://github.com/udacity/CarND-Traffic-Sign-Classifier-Project/blob/master/writeup_template.md) as a guide. The writeup can be in a markdown or pdf file. "
   ]
  },
  {
   "cell_type": "markdown",
   "metadata": {},
   "source": [
    "> **Note**: Once you have completed all of the code implementations and successfully answered each question above, you may finalize your work by exporting the iPython Notebook as an HTML document. You can do this by using the menu above and navigating to  \\n\",\n",
    "    \"**File -> Download as -> HTML (.html)**. Include the finished document along with this notebook as your submission."
   ]
  },
  {
   "cell_type": "markdown",
   "metadata": {},
   "source": [
    "---\n",
    "\n",
    "## Step 4 (Optional): Visualize the Neural Network's State with Test Images\n",
    "\n",
    " This Section is not required to complete but acts as an additional excersise for understaning the output of a neural network's weights. While neural networks can be a great learning device they are often referred to as a black box. We can understand what the weights of a neural network look like better by plotting their feature maps. After successfully training your neural network you can see what it's feature maps look like by plotting the output of the network's weight layers in response to a test stimuli image. From these plotted feature maps, it's possible to see what characteristics of an image the network finds interesting. For a sign, maybe the inner network feature maps react with high activation to the sign's boundary outline or to the contrast in the sign's painted symbol.\n",
    "\n",
    " Provided for you below is the function code that allows you to get the visualization output of any tensorflow weight layer you want. The inputs to the function should be a stimuli image, one used during training or a new one you provided, and then the tensorflow variable name that represents the layer's state during the training process, for instance if you wanted to see what the [LeNet lab's](https://classroom.udacity.com/nanodegrees/nd013/parts/fbf77062-5703-404e-b60c-95b78b2f3f9e/modules/6df7ae49-c61c-4bb2-a23e-6527e69209ec/lessons/601ae704-1035-4287-8b11-e2c2716217ad/concepts/d4aca031-508f-4e0b-b493-e7b706120f81) feature maps looked like for it's second convolutional layer you could enter conv2 as the tf_activation variable.\n",
    "\n",
    "For an example of what feature map outputs look like, check out NVIDIA's results in their paper [End-to-End Deep Learning for Self-Driving Cars](https://devblogs.nvidia.com/parallelforall/deep-learning-self-driving-cars/) in the section Visualization of internal CNN State. NVIDIA was able to show that their network's inner weights had high activations to road boundary lines by comparing feature maps from an image with a clear path to one without. Try experimenting with a similar test to show that your trained network's weights are looking for interesting features, whether it's looking at differences in feature maps from images with or without a sign, or even what feature maps look like in a trained network vs a completely untrained one on the same sign image.\n",
    "\n",
    "<figure>\n",
    " <img src=\"visualize_cnn.png\" width=\"380\" alt=\"Combined Image\" />\n",
    " <figcaption>\n",
    " <p></p> \n",
    " <p style=\"text-align: center;\"> Your output should look something like this (above)</p> \n",
    " </figcaption>\n",
    "</figure>\n",
    " <p></p> \n"
   ]
  },
  {
   "cell_type": "code",
   "execution_count": null,
   "metadata": {
    "collapsed": true
   },
   "outputs": [],
   "source": [
    "### Visualize your network's feature maps here.\n",
    "### Feel free to use as many code cells as needed.\n",
    "\n",
    "# image_input: the test image being fed into the network to produce the feature maps\n",
    "# tf_activation: should be a tf variable name used during your training procedure that represents the calculated state of a specific weight layer\n",
    "# activation_min/max: can be used to view the activation contrast in more detail, by default matplot sets min and max to the actual min and max values of the output\n",
    "# plt_num: used to plot out multiple different weight feature map sets on the same block, just extend the plt number for each new feature map entry\n",
    "\n",
    "def outputFeatureMap(image_input, tf_activation, activation_min=-1, activation_max=-1 ,plt_num=1):\n",
    "    # Here make sure to preprocess your image_input in a way your network expects\n",
    "    # with size, normalization, ect if needed\n",
    "    # image_input =\n",
    "    # Note: x should be the same name as your network's tensorflow data placeholder variable\n",
    "    # If you get an error tf_activation is not defined it may be having trouble accessing the variable from inside a function\n",
    "    activation = tf_activation.eval(session=sess,feed_dict={x : image_input})\n",
    "    featuremaps = activation.shape[3]\n",
    "    plt.figure(plt_num, figsize=(15,15))\n",
    "    for featuremap in range(featuremaps):\n",
    "        plt.subplot(6,8, featuremap+1) # sets the number of feature maps to show on each row and column\n",
    "        plt.title('FeatureMap ' + str(featuremap)) # displays the feature map number\n",
    "        if activation_min != -1 & activation_max != -1:\n",
    "            plt.imshow(activation[0,:,:, featuremap], interpolation=\"nearest\", vmin =activation_min, vmax=activation_max, cmap=\"gray\")\n",
    "        elif activation_max != -1:\n",
    "            plt.imshow(activation[0,:,:, featuremap], interpolation=\"nearest\", vmax=activation_max, cmap=\"gray\")\n",
    "        elif activation_min !=-1:\n",
    "            plt.imshow(activation[0,:,:, featuremap], interpolation=\"nearest\", vmin=activation_min, cmap=\"gray\")\n",
    "        else:\n",
    "            plt.imshow(activation[0,:,:, featuremap], interpolation=\"nearest\", cmap=\"gray\")"
   ]
  }
 ],
 "metadata": {
  "anaconda-cloud": {},
  "kernelspec": {
   "display_name": "Python 3",
   "language": "python",
   "name": "python3"
  },
  "language_info": {
   "codemirror_mode": {
    "name": "ipython",
    "version": 3
   },
   "file_extension": ".py",
   "mimetype": "text/x-python",
   "name": "python",
   "nbconvert_exporter": "python",
   "pygments_lexer": "ipython3",
   "version": "3.5.2"
  },
  "widgets": {
   "state": {},
   "version": "1.1.2"
  }
 },
 "nbformat": 4,
 "nbformat_minor": 1
}
